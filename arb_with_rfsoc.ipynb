{
 "cells": [
  {
   "cell_type": "code",
   "execution_count": null,
   "id": "6f334b5a-cfcf-4501-a564-0e4de647e114",
   "metadata": {},
   "outputs": [],
   "source": [
    "import numpy as np\n",
    "import matplotlib.pyplot as plt\n",
    "%matplotlib qt\n",
    "from scipy.signal import sawtooth"
   ]
  },
  {
   "cell_type": "markdown",
   "id": "d745822e-00f6-4c76-a41f-5cc277fba3c6",
   "metadata": {},
   "source": [
    "#### The DAC sampling rate is set at 9.34 GSps. \n",
    "#### With the arb_rfsoc overlay, a total of $2^{20}$ points can be loaded into the memory of the FPGA. Though the points are sent as a 16 bit signed integer to the FPGA , the DAC converts only the upper 14 bits into analog output.\n",
    "\n",
    "#### Within the FPGA the points are stored in effectively two RAMs, each of width 128 bits and a depth of $2^{16}$. The 128 bit width corresponds to 8 samples of 16 bit numbers. This implies that the two RAMs store $8*2*2^{16} = 2^{20}$ points. \n",
    "#### The read address sent to the RAM is increased by 1 at every clock cycle till it reaches MAX_POINTS (which is a value set by the user) where it is reset to zero and the increament at clock cycle continues. This way the RAM continuously sends the stored data to the DAC.\n",
    "#### The current modules includes a control signal sent in through the PMOD pin 1. When the control signal is low, the RAM address counts from 0 to $2^{19}-1$, and when the control is high, the the address counter counts from $2^{19}$ to $2^{20}-1$. This way the output can be switched between two different waveforms (each containing $2^{19}$ sample points) with controlled timings."
   ]
  },
  {
   "cell_type": "code",
   "execution_count": null,
   "id": "84c9715b-7d20-43a2-88df-61a812b3b5dc",
   "metadata": {},
   "outputs": [],
   "source": [
    "DAC_SR = 9.33888e9 #in GHz\n",
    "DAC_amplitude = 2**15 #16 bit representation in 2's complement format\n",
    "N_points = 2**19\n",
    "MAX_POINTS = int(2**15)\n",
    "t = 1/DAC_SR*np.arange(N_points)"
   ]
  },
  {
   "cell_type": "code",
   "execution_count": null,
   "id": "fb0f86e8-afea-43bd-9803-3b75c70220f6",
   "metadata": {},
   "outputs": [],
   "source": [
    "#Generating test signal\n",
    "freq = 40.0e6 #in Hz\n",
    "mysignal = 0.9*DAC_amplitude*np.sin(2*np.pi*freq*t)\n",
    "mysignal = 0.8*DAC_amplitude*sawtooth(2*np.pi*freq*t)\n",
    "mysignal = np.int16(mysignal)\n",
    "mysignal"
   ]
  },
  {
   "cell_type": "markdown",
   "id": "5de1c1e4-5f1a-46ca-b226-b568f342ca96",
   "metadata": {},
   "source": [
    "### Load the overlay into the FPGA and program the oscillators on the board to produce the appropriate clock signals. \n",
    "The LMK and LMX files were taken from https://github.com/Xilinx/RFSoC-PYNQ/tree/master/boards/RFSoC4x2/packages/tics/tics/register_txts"
   ]
  },
  {
   "cell_type": "code",
   "execution_count": null,
   "id": "a870a798-cb61-46a0-92dd-d3c8fca9c894",
   "metadata": {},
   "outputs": [],
   "source": [
    "from pynq import Overlay\n",
    "import xrfclk\n",
    "ol = Overlay(\"./package/awg_rfsoc_trig.bit\") #Load the FPGA bit file \n",
    "xrfclk.set_ref_clks(lmk_freq = 245.76,lmx_freq = 491.52) #Programs the oscillators on the board to produce the appropriate clock signals"
   ]
  },
  {
   "cell_type": "markdown",
   "id": "f4e5100b-708e-40c1-850f-9849c27e4512",
   "metadata": {},
   "source": [
    "### AXI-GPIO IP blocks are used within the FPGA to send data to the FPGA and program the arbitrary waveform generator.\n",
    "#### <u>we</u>: 2 bit signal. 1 -> write the data to RAM1, 2 -> write data to RAM2, 0 -> read data from both the RAMs\n",
    "#### <u>MAX_POINTS</u> : 32 bit integer. $2^4$ * MAX_POINTS gives the number of points to output from the arbitrary waveform generator. It's value should be less than the number of points to be loaded onto the memory\n",
    "#### <u>data_in</u> : 16 bit number\n",
    "#### <u>row</u> : 15 bit number. Specifies the position on the RAMs to place the the 16-bit data_in.\n",
    "#### <u>col</u> : 8 bit number. Specifies the position on the RAMs to place the the 16-bit data_in."
   ]
  },
  {
   "cell_type": "code",
   "execution_count": null,
   "id": "c63b53f5-4e08-455a-a8de-e0c746b70716",
   "metadata": {},
   "outputs": [],
   "source": [
    "from pynq.lib import AxiGPIO\n",
    "\n",
    "we_instance = ol.ip_dict['we']\n",
    "we_port = AxiGPIO(we_instance).channel1\n",
    "we_port.setdirection(\"out\")\n",
    "\n",
    "max_instance = ol.ip_dict['MAX_POINTS']\n",
    "max_port = AxiGPIO(max_instance).channel1\n",
    "max_port.setdirection(\"out\")\n",
    "\n",
    "data_in_instance = ol.ip_dict['data_in']\n",
    "data_in_port = AxiGPIO(data_in_instance).channel1\n",
    "data_in_port.setdirection(\"out\")\n",
    "\n",
    "row_instance = ol.ip_dict['row']\n",
    "row_port = AxiGPIO(row_instance).channel1\n",
    "row_port.setdirection(\"out\")\n",
    "\n",
    "col_instance = ol.ip_dict['col']\n",
    "col_port = AxiGPIO(col_instance).channel1\n",
    "col_port.setdirection(\"out\")"
   ]
  },
  {
   "cell_type": "markdown",
   "id": "973cb380-1c76-4bf0-8b15-4ce9ba73a834",
   "metadata": {},
   "source": [
    "### This is the sequence in which data in the AXI-GPIOs are written to load the waveform onto the memory of the FPGA"
   ]
  },
  {
   "cell_type": "code",
   "execution_count": null,
   "id": "63221947-9490-4cd3-a9db-5abc87caa6e0",
   "metadata": {},
   "outputs": [],
   "source": [
    "import time\n",
    "start = time.time()\n",
    "\n",
    "max_port.write(int(MAX_POINTS),0xffffffff)\n",
    "\n",
    "count = 0\n",
    "for row_val in range(32768):\n",
    "    row_port[0:15].write(row_val)\n",
    "    for we_val in [1,2]:\n",
    "        we_port[0:2].write(we_val)\n",
    "        for col_val in range(8):\n",
    "            col_port[0:3].write(col_val)\n",
    "            data_in_val = int(mysignal[count] & 0xffff)\n",
    "            data_in_port[0:16].write(data_in_val)\n",
    "            count += 1\n",
    "data_in_port[0:16].write(0)\n",
    "stop = time.time()\n",
    "printf(f\"Took {stop - start} s to write to RAM!\")\n",
    "we_port[0:2].write(0)"
   ]
  }
 ],
 "metadata": {
  "kernelspec": {
   "display_name": "Python 3 (ipykernel)",
   "language": "python",
   "name": "python3"
  },
  "language_info": {
   "codemirror_mode": {
    "name": "ipython",
    "version": 3
   },
   "file_extension": ".py",
   "mimetype": "text/x-python",
   "name": "python",
   "nbconvert_exporter": "python",
   "pygments_lexer": "ipython3",
   "version": "3.11.7"
  }
 },
 "nbformat": 4,
 "nbformat_minor": 5
}
